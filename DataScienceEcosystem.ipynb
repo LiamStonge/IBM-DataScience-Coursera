{
 "cells": [
  {
   "cell_type": "markdown",
   "id": "056086b9-f29c-491f-b52b-c51af886f7b4",
   "metadata": {},
   "source": [
    "# Data Science Tools and Ecosystem"
   ]
  },
  {
   "cell_type": "markdown",
   "id": "54d151e9-864d-4265-a36c-a30f7a453569",
   "metadata": {},
   "source": [
    "## Author\n",
    "Liam St-Onge-Amoretti"
   ]
  },
  {
   "cell_type": "markdown",
   "id": "f6bceb24-863b-4c74-8502-af10e59fd481",
   "metadata": {},
   "source": [
    "In this notebook, Data Science Tools and Ecosystem are summarized."
   ]
  },
  {
   "cell_type": "markdown",
   "id": "5378962d-c2d6-4d2b-b4a7-9c70f33f6125",
   "metadata": {},
   "source": [
    "**Objectives:**\n",
    "- List popular languages used within data Science\n",
    "- List common libraries used in data science\n",
    "- Create different lists and tables using markdowns in jupyter\n",
    "- create simple code blocks with simple expressions"
   ]
  },
  {
   "cell_type": "markdown",
   "id": "ce8b8836-1ed3-48a4-b068-5d108ba7b8b7",
   "metadata": {},
   "source": [
    "Some of the popular languages that Data Scientists use are:\n",
    "1. Python\n",
    "1. R\n",
    "1. SQL\n",
    "1. Julia"
   ]
  },
  {
   "cell_type": "markdown",
   "id": "2a67e058-5944-4c08-ae94-e027ff144e31",
   "metadata": {},
   "source": [
    "Some of the commonly used libraries used by Data Scientists include:\n",
    "1. NumPy\n",
    "2. Pandas\n",
    "3. Dask\n",
    "4. Plotly\n",
    "5. Scikit-learn"
   ]
  },
  {
   "cell_type": "markdown",
   "id": "1f26fdfa-01cd-4dcc-bc96-e424e9f0f13f",
   "metadata": {},
   "source": [
    "|Data Science Tools|\n",
    "|------------------|\n",
    "|Jupyter Notebook|\n",
    "|VS Code|\n",
    "|Spyder|\n",
    "|RStudio|"
   ]
  },
  {
   "cell_type": "markdown",
   "id": "12b742e7-93ea-48a3-98f6-9c621578cbde",
   "metadata": {},
   "source": [
    "### Below are a few examples of evaluating arithmetic expressions in Python."
   ]
  },
  {
   "cell_type": "code",
   "execution_count": 4,
   "id": "eb9200ea-2db4-4a45-ba99-2bd48a7be1be",
   "metadata": {},
   "outputs": [
    {
     "data": {
      "text/plain": [
       "17"
      ]
     },
     "execution_count": 4,
     "metadata": {},
     "output_type": "execute_result"
    }
   ],
   "source": [
    "#This a simple arithmetic expression to mutiply then add integers\n",
    "(3*4)+5"
   ]
  },
  {
   "cell_type": "code",
   "execution_count": 6,
   "id": "9da80bd3-baec-4af6-95de-7e24f5eb9c9b",
   "metadata": {},
   "outputs": [
    {
     "data": {
      "text/plain": [
       "3.3333333333333335"
      ]
     },
     "execution_count": 6,
     "metadata": {},
     "output_type": "execute_result"
    }
   ],
   "source": [
    "#This will convert 200 minutes to hours by diving by 60\n",
    "200/60"
   ]
  },
  {
   "cell_type": "code",
   "execution_count": null,
   "id": "c581b99e-6485-439d-9c43-c482ce794fc0",
   "metadata": {},
   "outputs": [],
   "source": []
  }
 ],
 "metadata": {
  "kernelspec": {
   "display_name": "Python 3 (ipykernel)",
   "language": "python",
   "name": "python3"
  },
  "language_info": {
   "codemirror_mode": {
    "name": "ipython",
    "version": 3
   },
   "file_extension": ".py",
   "mimetype": "text/x-python",
   "name": "python",
   "nbconvert_exporter": "python",
   "pygments_lexer": "ipython3",
   "version": "3.12.3"
  }
 },
 "nbformat": 4,
 "nbformat_minor": 5
}
